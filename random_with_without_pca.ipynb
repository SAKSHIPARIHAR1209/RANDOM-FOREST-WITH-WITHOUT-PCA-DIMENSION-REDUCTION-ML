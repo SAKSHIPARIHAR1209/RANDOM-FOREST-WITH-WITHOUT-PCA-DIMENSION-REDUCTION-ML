{
  "cells": [
    {
      "cell_type": "code",
      "execution_count": 41,
      "metadata": {
        "colab": {
          "base_uri": "https://localhost:8080/",
          "height": 424
        },
        "id": "uALh4XC8migj",
        "outputId": "c962cd2e-03ed-4597-bf47-c442ff8eb716"
      },
      "outputs": [],
      "source": [
        "import numpy as np\n",
        "import pandas as pd\n",
        "import matplotlib.pyplot as plt\n",
        "%matplotlib inline\n",
        "\n",
        "from sklearn import datasets \n",
        "from sklearn.decomposition import PCA\n",
        "from sklearn.preprocessing import StandardScaler\n",
        "from sklearn import tree\n",
        "\n",
        "\n",
        "from sklearn import metrics\n",
        "from sklearn.metrics import confusion_matrix,classification_report,roc_curve,accuracy_score,auc\n",
        "\n",
        "data1= datasets.load_breast_cancer()\n",
        "x= data1.data\n",
        "y = data1.target\n",
        "\n"
      ]
    },
    {
      "cell_type": "code",
      "execution_count": 42,
      "metadata": {
        "id": "qvpEbYKLoA05"
      },
      "outputs": [],
      "source": [
        "#splitting the data in trainig and testing dataset\n",
        "\n",
        "\n",
        "from sklearn.model_selection import train_test_split\n",
        "x_train,x_test,y_train,y_test=train_test_split(x,y,test_size=0.2,random_state=3)\n",
        "\n"
      ]
    },
    {
      "cell_type": "code",
      "execution_count": 43,
      "metadata": {
        "id": "zSWdzfeUoHhj"
      },
      "outputs": [],
      "source": [
        "#now preprocess the data \n",
        "from sklearn.preprocessing import StandardScaler\n",
        "sc=StandardScaler()\n",
        "x_train=sc.fit_transform(x_train)\n",
        "x_test=sc.transform(x_test)\n"
      ]
    },
    {
      "cell_type": "code",
      "execution_count": 44,
      "metadata": {
        "colab": {
          "base_uri": "https://localhost:8080/"
        },
        "id": "ZDhZ6cXxoZxI",
        "outputId": "5af6fbac-ed24-4061-c226-d23fefbb8c1c"
      },
      "outputs": [
        {
          "data": {
            "text/plain": [
              "RandomForestClassifier(criterion='entropy', n_estimators=10)"
            ]
          },
          "execution_count": 44,
          "metadata": {},
          "output_type": "execute_result"
        }
      ],
      "source": [
        "from sklearn.ensemble import RandomForestClassifier\n",
        "classifier=RandomForestClassifier(n_estimators=10,criterion=\"entropy\")\n",
        "classifier.fit(x_train,y_train.ravel())"
      ]
    },
    {
      "cell_type": "code",
      "execution_count": 45,
      "metadata": {
        "id": "sAwM0MRDoeDh"
      },
      "outputs": [],
      "source": [
        "pred_train = classifier.predict(x_train)"
      ]
    },
    {
      "cell_type": "code",
      "execution_count": 46,
      "metadata": {
        "id": "YqlmaW7BoheS"
      },
      "outputs": [],
      "source": [
        "pred_test=classifier.predict(x_test)"
      ]
    },
    {
      "cell_type": "code",
      "execution_count": 47,
      "metadata": {
        "colab": {
          "base_uri": "https://localhost:8080/"
        },
        "id": "5B7KvUPGolLx",
        "outputId": "57522298-f58a-4879-9061-c533f08f2612"
      },
      "outputs": [
        {
          "name": "stdout",
          "output_type": "stream",
          "text": [
            "accuracy  99.56043956043956\n"
          ]
        }
      ],
      "source": [
        "accuracy = metrics.accuracy_score(y_train, pred_train)*100\n",
        "print(\"accuracy \",accuracy)"
      ]
    },
    {
      "cell_type": "code",
      "execution_count": 48,
      "metadata": {},
      "outputs": [
        {
          "name": "stdout",
          "output_type": "stream",
          "text": [
            "ACCURACY  100.0\n"
          ]
        }
      ],
      "source": [
        "from sklearn.decomposition import PCA\n",
        "from sklearn.preprocessing import StandardScaler\n",
        "pca=PCA(n_components=2)\n",
        "from sklearn.preprocessing import StandardScaler\n",
        "scaler=StandardScaler()\n",
        "scaler.fit(x_train,x_test)\n",
        "ca=PCA(n_components=2)\n",
        "X_train_PCA=pca.fit_transform(x_train)\n",
        "X_test_PCA=pca.transform(x_test)\n",
        "sc=StandardScaler()\n",
        "X_train_PCA=sc.fit_transform(x_train)\n",
        "X_test_PCA=sc.transform(x_test)\n",
        "from sklearn.ensemble import RandomForestClassifier\n",
        "classifier=RandomForestClassifier(n_estimators=10,criterion=\"entropy\")\n",
        "classifier.fit(X_train_PCA,y_train.ravel())\n",
        "pred_train = classifier.predict(X_train_PCA)\n",
        "pred_test=classifier.predict(X_test_PCA)\n",
        "print(\"ACCURACY \",accuracy_score(y_train,pred_train)*100)\n"
      ]
    },
    {
      "cell_type": "code",
      "execution_count": null,
      "metadata": {},
      "outputs": [],
      "source": []
    }
  ],
  "metadata": {
    "colab": {
      "name": "Untitled2.ipynb",
      "provenance": []
    },
    "kernelspec": {
      "display_name": "Python 3.9.12 ('base')",
      "language": "python",
      "name": "python3"
    },
    "language_info": {
      "codemirror_mode": {
        "name": "ipython",
        "version": 3
      },
      "file_extension": ".py",
      "mimetype": "text/x-python",
      "name": "python",
      "nbconvert_exporter": "python",
      "pygments_lexer": "ipython3",
      "version": "3.9.12"
    },
    "vscode": {
      "interpreter": {
        "hash": "a90aeebcf29d64a654773811cc170cb25061cb2498f10ac689db374c7bf325de"
      }
    }
  },
  "nbformat": 4,
  "nbformat_minor": 0
}
